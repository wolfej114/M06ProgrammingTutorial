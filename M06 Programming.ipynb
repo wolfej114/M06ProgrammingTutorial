{
 "cells": [
  {
   "cell_type": "code",
   "execution_count": 2,
   "id": "2711af24",
   "metadata": {},
   "outputs": [],
   "source": [
    "from datetime import date\n",
    "now = date.today()\n",
    "now_str = now.isoformat()\n",
    "with open('today.txt', 'wt') as output:\n",
    "    print(now_str, file=output)"
   ]
  },
  {
   "cell_type": "code",
   "execution_count": 3,
   "id": "f15b2c29",
   "metadata": {},
   "outputs": [
    {
     "data": {
      "text/plain": [
       "'02/27/2023'"
      ]
     },
     "execution_count": 3,
     "metadata": {},
     "output_type": "execute_result"
    }
   ],
   "source": [
    "with open('today.txt', 'rt') as input:\n",
    "    today_string = input.read()\n",
    "    \n",
    "today_string\n",
    "'02/27/2023'"
   ]
  },
  {
   "cell_type": "code",
   "execution_count": null,
   "id": "5abafd81",
   "metadata": {},
   "outputs": [],
   "source": [
    "fmt = '%Y-%m-%d\\n'\n",
    "datetime.strptime(today_string, fmt)\n",
    "datetime.datetime(2023, 2, 27, 0, 0)"
   ]
  },
  {
   "cell_type": "code",
   "execution_count": 6,
   "id": "06994cd0",
   "metadata": {},
   "outputs": [],
   "source": [
    "import multiprocessing\n",
    "\n",
    "def now(seconds):\n",
    "    from datetime import datetime\n",
    "    from time import sleep\n",
    "    sleep(seconds)\n",
    "    print('wait', seconds, 'seconds, time is', datetime.utcnow())\n",
    "\n",
    "if __name__ == '__main__':\n",
    "    import random\n",
    "    for n in range(3):\n",
    "        seconds = random.random()\n",
    "        proc = multiprocessing.Process(target=now, args=(seconds,))\n",
    "        proc.start()"
   ]
  }
 ],
 "metadata": {
  "kernelspec": {
   "display_name": "Python 3 (ipykernel)",
   "language": "python",
   "name": "python3"
  },
  "language_info": {
   "codemirror_mode": {
    "name": "ipython",
    "version": 3
   },
   "file_extension": ".py",
   "mimetype": "text/x-python",
   "name": "python",
   "nbconvert_exporter": "python",
   "pygments_lexer": "ipython3",
   "version": "3.9.13"
  }
 },
 "nbformat": 4,
 "nbformat_minor": 5
}
